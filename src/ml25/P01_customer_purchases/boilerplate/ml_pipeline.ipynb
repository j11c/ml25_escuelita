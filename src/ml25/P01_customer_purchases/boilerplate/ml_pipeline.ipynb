{
 "cells": [
  {
   "cell_type": "markdown",
   "id": "1d451bf3",
   "metadata": {},
   "source": [
    "# Proceso a seguir\n",
    "\n",
    "1. Importar datos de entrenamiento\n",
    "1. Aumentar para incluir negativos\n",
    "3. Split train val\n",
    "4. Preprocesamiento de train\n",
    "5. Entrenar modelo con datos de train\n",
    "5. Predicciones con val\n",
    "6. Evaluación"
   ]
  },
  {
   "cell_type": "code",
   "execution_count": 1,
   "id": "c2e88a42",
   "metadata": {},
   "outputs": [
    {
     "name": "stdout",
     "output_type": "stream",
     "text": [
      "<class 'pandas.core.frame.DataFrame'>\n",
      "RangeIndex: 7289 entries, 0 to 7288\n",
      "Data columns (total 18 columns):\n",
      " #   Column                  Non-Null Count  Dtype  \n",
      "---  ------                  --------------  -----  \n",
      " 0   purchase_id             7289 non-null   int64  \n",
      " 1   customer_id             7289 non-null   object \n",
      " 2   customer_date_of_birth  7289 non-null   object \n",
      " 3   customer_gender         5738 non-null   object \n",
      " 4   customer_signup_date    7289 non-null   object \n",
      " 5   item_id                 7289 non-null   object \n",
      " 6   item_title              7289 non-null   object \n",
      " 7   item_category           7289 non-null   object \n",
      " 8   item_price              7289 non-null   float64\n",
      " 9   item_img_filename       7289 non-null   object \n",
      " 10  item_avg_rating         7244 non-null   float64\n",
      " 11  item_num_ratings        7289 non-null   int64  \n",
      " 12  item_release_date       7289 non-null   object \n",
      " 13  purchase_timestamp      7289 non-null   object \n",
      " 14  customer_item_views     7289 non-null   int64  \n",
      " 15  purchase_item_rating    1544 non-null   float64\n",
      " 16  purchase_device         7289 non-null   object \n",
      " 17  label                   7289 non-null   int64  \n",
      "dtypes: float64(3), int64(4), object(11)\n",
      "memory usage: 1.0+ MB\n"
     ]
    }
   ],
   "source": [
    "import pandas as pd\n",
    "import os\n",
    "train_file = \"../../datasets/customer_purchases/customer_purchases_train.csv\"\n",
    "train_file = os.path.abspath(train_file)\n",
    "train_df = pd.read_csv(train_file)\n",
    "\n",
    "train_df.info()"
   ]
  },
  {
   "cell_type": "code",
   "execution_count": 2,
   "id": "cce87884",
   "metadata": {},
   "outputs": [
    {
     "name": "stdout",
     "output_type": "stream",
     "text": [
      "<class 'pandas.core.frame.DataFrame'>\n",
      "RangeIndex: 192550 entries, 0 to 192549\n",
      "Data columns (total 18 columns):\n",
      " #   Column                  Non-Null Count   Dtype  \n",
      "---  ------                  --------------   -----  \n",
      " 0   purchase_id             7289 non-null    float64\n",
      " 1   customer_id             192550 non-null  object \n",
      " 2   customer_date_of_birth  192550 non-null  object \n",
      " 3   customer_gender         149042 non-null  object \n",
      " 4   customer_signup_date    192550 non-null  object \n",
      " 5   item_id                 192550 non-null  object \n",
      " 6   item_title              192550 non-null  object \n",
      " 7   item_category           192550 non-null  object \n",
      " 8   item_price              192550 non-null  float64\n",
      " 9   item_img_filename       192550 non-null  object \n",
      " 10  item_avg_rating         191549 non-null  float64\n",
      " 11  item_num_ratings        192550 non-null  int64  \n",
      " 12  item_release_date       192550 non-null  object \n",
      " 13  purchase_timestamp      7289 non-null    object \n",
      " 14  customer_item_views     7289 non-null    float64\n",
      " 15  purchase_item_rating    1544 non-null    float64\n",
      " 16  purchase_device         7289 non-null    object \n",
      " 17  label                   192550 non-null  int64  \n",
      "dtypes: float64(5), int64(2), object(11)\n",
      "memory usage: 26.4+ MB\n"
     ]
    }
   ],
   "source": [
    "from negative_generation import *\n",
    "\n",
    "complete_df = gen_final_dataset(train_df)\n",
    "# remover columnas duplicadas\n",
    "complete_df = complete_df.loc[:, ~complete_df.columns.duplicated()]\n",
    "complete_df.info()"
   ]
  },
  {
   "cell_type": "code",
   "execution_count": 3,
   "id": "97da735c",
   "metadata": {},
   "outputs": [
    {
     "name": "stdout",
     "output_type": "stream",
     "text": [
      "X_train shape: (154040, 17)\n",
      "X_test shape: (38510, 17)\n"
     ]
    }
   ],
   "source": [
    "from sklearn.model_selection import train_test_split\n",
    "\n",
    "# Suppose you have your features and labels:\n",
    "X = complete_df.drop(columns=\"label\")\n",
    "y = complete_df[\"label\"]\n",
    "\n",
    "# Split into train and validation sets\n",
    "X_train, X_val, y_train, y_val = train_test_split(\n",
    "    X, y, \n",
    "    test_size=0.2,        \n",
    "    random_state=42,      # for reproducibility\n",
    "    stratify=y            \n",
    ")\n",
    "\n",
    "print(f\"X_train shape: {X_train.shape}\")\n",
    "print(f\"X_test shape: {X_val.shape}\")"
   ]
  },
  {
   "cell_type": "code",
   "execution_count": null,
   "id": "4046bf48",
   "metadata": {},
   "outputs": [
    {
     "name": "stdout",
     "output_type": "stream",
     "text": [
      "df saved to D:\\ml25_escuelita\\src\\ml25\\P01_customer_purchases\\boilerplate\\data_processing.py\\..\\..\\..\\datasets\\customer_purchases\\customer_features.csv\n",
      "(154040, 70)\n",
      "cat_featores: ['customer_gender_female', 'customer_gender_male', 'customer_gender_nan', 'item_category_blouse', 'item_category_dress', 'item_category_jacket', 'item_category_jeans', 'item_category_shirt', 'item_category_shoes', 'item_category_skirt', 'item_category_slacks', 'item_category_suit', 'item_category_t-shirt', 'item_img_filename_imgb.jpg', 'item_img_filename_imgbl.jpg', 'item_img_filename_imgg.jpg', 'item_img_filename_imgo.jpg', 'item_img_filename_imgp.jpg', 'item_img_filename_imgr.jpg', 'item_img_filename_imgw.jpg', 'item_img_filename_imgy.jpg']\n",
      "processed array shape: (154040, 88)\n",
      "df saved to D:\\ml25_escuelita\\src\\ml25\\P01_customer_purchases\\boilerplate\\data_processing.py\\..\\..\\..\\datasets\\customer_purchases\\processed_train.csv\n",
      "<class 'pandas.core.frame.DataFrame'>\n",
      "RangeIndex: 154040 entries, 0 to 154039\n",
      "Data columns (total 71 columns):\n",
      " #   Column                       Non-Null Count   Dtype \n",
      "---  ------                       --------------   ----- \n",
      " 0   customer_gender_female       154040 non-null  object\n",
      " 1   customer_gender_male         154040 non-null  object\n",
      " 2   age                          154040 non-null  object\n",
      " 3   customer_seniority           154040 non-null  object\n",
      " 4   avg_days_between_purchases   153149 non-null  object\n",
      " 5   days_since_last_purchase     154040 non-null  object\n",
      " 6   avg_purchase_cost            154040 non-null  object\n",
      " 7   std_purchase_cost            154040 non-null  object\n",
      " 8   cat_pct_blouse               154040 non-null  object\n",
      " 9   cat_pct_dress                154040 non-null  object\n",
      " 10  cat_pct_jacket               154040 non-null  object\n",
      " 11  cat_pct_jeans                154040 non-null  object\n",
      " 12  cat_pct_shirt                154040 non-null  object\n",
      " 13  cat_pct_shoes                154040 non-null  object\n",
      " 14  cat_pct_skirt                154040 non-null  object\n",
      " 15  cat_pct_slacks               154040 non-null  object\n",
      " 16  cat_pct_suit                 154040 non-null  object\n",
      " 17  cat_pct_t-shirt              154040 non-null  object\n",
      " 18  color_pct_b                  154040 non-null  object\n",
      " 19  color_pct_bl                 154040 non-null  object\n",
      " 20  color_pct_g                  154040 non-null  object\n",
      " 21  color_pct_o                  154040 non-null  object\n",
      " 22  color_pct_p                  154040 non-null  object\n",
      " 23  color_pct_r                  154040 non-null  object\n",
      " 24  color_pct_w                  154040 non-null  object\n",
      " 25  color_pct_y                  154040 non-null  object\n",
      " 26  autumn                       154040 non-null  object\n",
      " 27  spring                       154040 non-null  object\n",
      " 28  summer                       154040 non-null  object\n",
      " 29  winter                       154040 non-null  object\n",
      " 30  exclusive                    154040 non-null  object\n",
      " 31  casual                       154040 non-null  object\n",
      " 32  stylish                      154040 non-null  object\n",
      " 33  elegant                      154040 non-null  object\n",
      " 34  durable                      154040 non-null  object\n",
      " 35  classic                      154040 non-null  object\n",
      " 36  lightweight                  154040 non-null  object\n",
      " 37  modern                       154040 non-null  object\n",
      " 38  premium                      154040 non-null  object\n",
      " 39  item_category_blouse         154040 non-null  object\n",
      " 40  item_category_dress          154040 non-null  object\n",
      " 41  item_category_jacket         154040 non-null  object\n",
      " 42  item_category_jeans          154040 non-null  object\n",
      " 43  item_category_shirt          154040 non-null  object\n",
      " 44  item_category_shoes          154040 non-null  object\n",
      " 45  item_category_skirt          154040 non-null  object\n",
      " 46  item_category_slacks         154040 non-null  object\n",
      " 47  item_category_suit           154040 non-null  object\n",
      " 48  item_category_t-shirt        154040 non-null  object\n",
      " 49  exclusive_in_title           154040 non-null  object\n",
      " 50  casual_in_title              154040 non-null  object\n",
      " 51  stylish_in_title             154040 non-null  object\n",
      " 52  elegant_in_title             154040 non-null  object\n",
      " 53  durable_in_title             154040 non-null  object\n",
      " 54  classic_in_title             154040 non-null  object\n",
      " 55  lightweight_in_title         154040 non-null  object\n",
      " 56  modern_in_title              154040 non-null  object\n",
      " 57  premium_in_title             154040 non-null  object\n",
      " 58  item_img_filename_imgb.jpg   154040 non-null  object\n",
      " 59  item_img_filename_imgbl.jpg  154040 non-null  object\n",
      " 60  item_img_filename_imgg.jpg   154040 non-null  object\n",
      " 61  item_img_filename_imgo.jpg   154040 non-null  object\n",
      " 62  item_img_filename_imgp.jpg   154040 non-null  object\n",
      " 63  item_img_filename_imgr.jpg   154040 non-null  object\n",
      " 64  item_img_filename_imgw.jpg   154040 non-null  object\n",
      " 65  item_img_filename_imgy.jpg   154040 non-null  object\n",
      " 66  item_price                   154040 non-null  object\n",
      " 67  season_spring                154040 non-null  object\n",
      " 68  season_summer                154040 non-null  object\n",
      " 69  season_autumn                154040 non-null  object\n",
      " 70  season_winter                154040 non-null  object\n",
      "dtypes: object(71)\n",
      "memory usage: 83.4+ MB\n",
      "df saved to D:\\ml25_escuelita\\src\\ml25\\P01_customer_purchases\\boilerplate\\data_processing.py\\..\\..\\..\\datasets\\customer_purchases\\processed_train.csv\n"
     ]
    }
   ],
   "source": [
    "from data_processing import *\n",
    "\n",
    "processed_train = preprocess(X_train, training=True)\n",
    "processed_train.info()\n",
    "\n",
    "save_df(processed_train, \"processed_train.csv\")"
   ]
  },
  {
   "cell_type": "code",
   "execution_count": 6,
   "id": "24e52359",
   "metadata": {},
   "outputs": [],
   "source": [
    "from model import *\n",
    "#from training import *\n",
    "\n",
    "# entrenar diferentes modelos"
   ]
  }
 ],
 "metadata": {
  "kernelspec": {
   "display_name": "mlenv",
   "language": "python",
   "name": "python3"
  },
  "language_info": {
   "codemirror_mode": {
    "name": "ipython",
    "version": 3
   },
   "file_extension": ".py",
   "mimetype": "text/x-python",
   "name": "python",
   "nbconvert_exporter": "python",
   "pygments_lexer": "ipython3",
   "version": "3.10.18"
  }
 },
 "nbformat": 4,
 "nbformat_minor": 5
}
