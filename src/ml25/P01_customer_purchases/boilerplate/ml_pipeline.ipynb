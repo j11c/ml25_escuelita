{
 "cells": [
  {
   "cell_type": "markdown",
   "id": "1d451bf3",
   "metadata": {},
   "source": [
    "# Proceso a seguir\n",
    "\n",
    "1. Importar datos de entrenamiento\n",
    "1. Aumentar para incluir negativos\n",
    "3. Split train val\n",
    "4. Preprocesamiento de train\n",
    "5. Entrenar modelo con datos de train\n",
    "5. Predicciones con val\n",
    "6. Evaluación"
   ]
  },
  {
   "cell_type": "code",
   "execution_count": 1,
   "id": "c2e88a42",
   "metadata": {},
   "outputs": [
    {
     "name": "stdout",
     "output_type": "stream",
     "text": [
      "<class 'pandas.core.frame.DataFrame'>\n",
      "RangeIndex: 7289 entries, 0 to 7288\n",
      "Data columns (total 18 columns):\n",
      " #   Column                  Non-Null Count  Dtype  \n",
      "---  ------                  --------------  -----  \n",
      " 0   purchase_id             7289 non-null   int64  \n",
      " 1   customer_id             7289 non-null   object \n",
      " 2   customer_date_of_birth  7289 non-null   object \n",
      " 3   customer_gender         5738 non-null   object \n",
      " 4   customer_signup_date    7289 non-null   object \n",
      " 5   item_id                 7289 non-null   object \n",
      " 6   item_title              7289 non-null   object \n",
      " 7   item_category           7289 non-null   object \n",
      " 8   item_price              7289 non-null   float64\n",
      " 9   item_img_filename       7289 non-null   object \n",
      " 10  item_avg_rating         7244 non-null   float64\n",
      " 11  item_num_ratings        7289 non-null   int64  \n",
      " 12  item_release_date       7289 non-null   object \n",
      " 13  purchase_timestamp      7289 non-null   object \n",
      " 14  customer_item_views     7289 non-null   int64  \n",
      " 15  purchase_item_rating    1544 non-null   float64\n",
      " 16  purchase_device         7289 non-null   object \n",
      " 17  label                   7289 non-null   int64  \n",
      "dtypes: float64(3), int64(4), object(11)\n",
      "memory usage: 1.0+ MB\n"
     ]
    }
   ],
   "source": [
    "import pandas as pd\n",
    "import os\n",
    "\n",
    "train_file = \"../../datasets/customer_purchases/customer_purchases_train.csv\"\n",
    "train_file = os.path.abspath(train_file)\n",
    "train_df = pd.read_csv(train_file)\n",
    "\n",
    "train_df.info()"
   ]
  },
  {
   "cell_type": "code",
   "execution_count": null,
   "id": "5dd1bea8",
   "metadata": {},
   "outputs": [],
   "source": [
    "from data_processing import *\n",
    "\n",
    "customer_feat = extract_customer_features(train_df)\n",
    "customer_feat.info()"
   ]
  },
  {
   "cell_type": "code",
   "execution_count": 2,
   "id": "16b139e4",
   "metadata": {},
   "outputs": [
    {
     "name": "stdout",
     "output_type": "stream",
     "text": [
      "df saved to D:\\ml25_escuelita\\src\\ml25\\P01_customer_purchases\\boilerplate\\data_processing.py\\..\\..\\..\\datasets\\customer_purchases\\customer_features.csv\n",
      "cat_featores: ['customer_gender_female', 'customer_gender_male', 'customer_gender_nan', 'item_category_blouse', 'item_category_dress', 'item_category_jacket', 'item_category_jeans', 'item_category_shirt', 'item_category_shoes', 'item_category_skirt', 'item_category_slacks', 'item_category_suit', 'item_category_t-shirt', 'item_img_filename_imgb.jpg', 'item_img_filename_imgbl.jpg', 'item_img_filename_imgg.jpg', 'item_img_filename_imgo.jpg', 'item_img_filename_imgp.jpg', 'item_img_filename_imgr.jpg', 'item_img_filename_imgw.jpg', 'item_img_filename_imgy.jpg']\n",
      "df saved to D:\\ml25_escuelita\\src\\ml25\\P01_customer_purchases\\boilerplate\\data_processing.py\\..\\..\\..\\datasets\\customer_purchases\\processed_train.csv\n",
      "df saved to D:\\ml25_escuelita\\src\\ml25\\P01_customer_purchases\\boilerplate\\data_processing.py\\..\\..\\..\\datasets\\customer_purchases\\data_to_use.csv\n",
      "<class 'pandas.core.frame.DataFrame'>\n",
      "Index: 14578 entries, 11045 to 1755\n",
      "Data columns (total 71 columns):\n",
      " #   Column                               Non-Null Count  Dtype  \n",
      "---  ------                               --------------  -----  \n",
      " 0   customer_gender_female               14578 non-null  float64\n",
      " 1   customer_gender_male                 14578 non-null  float64\n",
      " 2   customer_age                         14578 non-null  float64\n",
      " 3   customer_seniority                   14578 non-null  float64\n",
      " 4   customer_avg_days_between_purchases  14578 non-null  float64\n",
      " 5   customer_days_since_last_purchase    14578 non-null  float64\n",
      " 6   customer_avg_purchase_cost           14578 non-null  float64\n",
      " 7   customer_std_purchase_cost           14578 non-null  float64\n",
      " 8   customer_cat_pct_blouse              14578 non-null  float64\n",
      " 9   customer_cat_pct_dress               14578 non-null  float64\n",
      " 10  customer_cat_pct_jacket              14578 non-null  float64\n",
      " 11  customer_cat_pct_jeans               14578 non-null  float64\n",
      " 12  customer_cat_pct_shirt               14578 non-null  float64\n",
      " 13  customer_cat_pct_shoes               14578 non-null  float64\n",
      " 14  customer_cat_pct_skirt               14578 non-null  float64\n",
      " 15  customer_cat_pct_slacks              14578 non-null  float64\n",
      " 16  customer_cat_pct_suit                14578 non-null  float64\n",
      " 17  customer_cat_pct_t-shirt             14578 non-null  float64\n",
      " 18  customer_color_pct_b                 14578 non-null  float64\n",
      " 19  customer_color_pct_bl                14578 non-null  float64\n",
      " 20  customer_color_pct_g                 14578 non-null  float64\n",
      " 21  customer_color_pct_o                 14578 non-null  float64\n",
      " 22  customer_color_pct_p                 14578 non-null  float64\n",
      " 23  customer_color_pct_r                 14578 non-null  float64\n",
      " 24  customer_color_pct_w                 14578 non-null  float64\n",
      " 25  customer_color_pct_y                 14578 non-null  float64\n",
      " 26  customer_autumn                      14578 non-null  float64\n",
      " 27  customer_spring                      14578 non-null  float64\n",
      " 28  customer_summer                      14578 non-null  float64\n",
      " 29  customer_winter                      14578 non-null  float64\n",
      " 30  customer_exclusive                   14578 non-null  float64\n",
      " 31  customer_casual                      14578 non-null  float64\n",
      " 32  customer_stylish                     14578 non-null  float64\n",
      " 33  customer_elegant                     14578 non-null  float64\n",
      " 34  customer_durable                     14578 non-null  float64\n",
      " 35  customer_classic                     14578 non-null  float64\n",
      " 36  customer_lightweight                 14578 non-null  float64\n",
      " 37  customer_modern                      14578 non-null  float64\n",
      " 38  customer_premium                     14578 non-null  float64\n",
      " 39  item_category_blouse                 14578 non-null  float64\n",
      " 40  item_category_dress                  14578 non-null  float64\n",
      " 41  item_category_jacket                 14578 non-null  float64\n",
      " 42  item_category_jeans                  14578 non-null  float64\n",
      " 43  item_category_shirt                  14578 non-null  float64\n",
      " 44  item_category_shoes                  14578 non-null  float64\n",
      " 45  item_category_skirt                  14578 non-null  float64\n",
      " 46  item_category_slacks                 14578 non-null  float64\n",
      " 47  item_category_suit                   14578 non-null  float64\n",
      " 48  item_category_t-shirt                14578 non-null  float64\n",
      " 49  item_exclusive_in_title              14578 non-null  int64  \n",
      " 50  item_casual_in_title                 14578 non-null  int64  \n",
      " 51  item_stylish_in_title                14578 non-null  int64  \n",
      " 52  item_elegant_in_title                14578 non-null  int64  \n",
      " 53  item_durable_in_title                14578 non-null  int64  \n",
      " 54  item_classic_in_title                14578 non-null  int64  \n",
      " 55  item_lightweight_in_title            14578 non-null  int64  \n",
      " 56  item_modern_in_title                 14578 non-null  int64  \n",
      " 57  item_premium_in_title                14578 non-null  int64  \n",
      " 58  item_img_filename_imgb.jpg           14578 non-null  float64\n",
      " 59  item_img_filename_imgbl.jpg          14578 non-null  float64\n",
      " 60  item_img_filename_imgg.jpg           14578 non-null  float64\n",
      " 61  item_img_filename_imgo.jpg           14578 non-null  float64\n",
      " 62  item_img_filename_imgp.jpg           14578 non-null  float64\n",
      " 63  item_img_filename_imgr.jpg           14578 non-null  float64\n",
      " 64  item_img_filename_imgw.jpg           14578 non-null  float64\n",
      " 65  item_img_filename_imgy.jpg           14578 non-null  float64\n",
      " 66  item_price                           14578 non-null  float64\n",
      " 67  item_season_spring                   14578 non-null  int64  \n",
      " 68  item_season_summer                   14578 non-null  int64  \n",
      " 69  item_season_autumn                   14578 non-null  int64  \n",
      " 70  item_season_winter                   14578 non-null  int64  \n",
      "dtypes: float64(58), int64(13)\n",
      "memory usage: 8.0 MB\n"
     ]
    }
   ],
   "source": [
    "from data_processing import *\n",
    "\n",
    "X, y = read_train_data()\n",
    "X.info()\n"
   ]
  }
 ],
 "metadata": {
  "kernelspec": {
   "display_name": "mlenv",
   "language": "python",
   "name": "python3"
  },
  "language_info": {
   "codemirror_mode": {
    "name": "ipython",
    "version": 3
   },
   "file_extension": ".py",
   "mimetype": "text/x-python",
   "name": "python",
   "nbconvert_exporter": "python",
   "pygments_lexer": "ipython3",
   "version": "3.10.18"
  }
 },
 "nbformat": 4,
 "nbformat_minor": 5
}
