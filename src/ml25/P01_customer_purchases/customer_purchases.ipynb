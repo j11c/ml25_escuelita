{
 "cells": [
  {
   "cell_type": "markdown",
   "id": "cf85c527",
   "metadata": {},
   "source": [
    "# Data exploration"
   ]
  },
  {
   "cell_type": "code",
   "execution_count": 16,
   "id": "012cbe33",
   "metadata": {},
   "outputs": [],
   "source": [
    "import pandas as pd\n",
    "import matplotlib.pyplot as plt\n",
    "from pathlib import Path\n",
    "from datetime import datetime\n",
    "\n",
    "DATA_COLLECTED_AT = datetime(2025, 9, 21).date()\n",
    "NOTEBOOK_DIR = Path.cwd()\n",
    "DATA_DIR = NOTEBOOK_DIR / \"../datasets/customer_purchases\"\n",
    "\n",
    "def read_csv(filename: str):\n",
    "    file = DATA_DIR / f\"{filename}.csv\"\n",
    "    df = pd.read_csv(file)\n",
    "    return df\n",
    "\n",
    "train_df = read_csv(\"customer_purchases_train\")\n",
    "test_df = read_csv(\"customer_purchases_test\")"
   ]
  },
  {
   "cell_type": "code",
   "execution_count": 2,
   "id": "7e0b67ce",
   "metadata": {},
   "outputs": [
    {
     "name": "stdout",
     "output_type": "stream",
     "text": [
      "(7289, 18)\n",
      "<class 'pandas.core.frame.DataFrame'>\n",
      "RangeIndex: 7289 entries, 0 to 7288\n",
      "Data columns (total 18 columns):\n",
      " #   Column                  Non-Null Count  Dtype  \n",
      "---  ------                  --------------  -----  \n",
      " 0   purchase_id             7289 non-null   int64  \n",
      " 1   customer_id             7289 non-null   object \n",
      " 2   customer_date_of_birth  7289 non-null   object \n",
      " 3   customer_gender         5738 non-null   object \n",
      " 4   customer_signup_date    7289 non-null   object \n",
      " 5   item_id                 7289 non-null   object \n",
      " 6   item_title              7289 non-null   object \n",
      " 7   item_category           7289 non-null   object \n",
      " 8   item_price              7289 non-null   float64\n",
      " 9   item_img_filename       7289 non-null   object \n",
      " 10  item_avg_rating         7244 non-null   float64\n",
      " 11  item_num_ratings        7289 non-null   int64  \n",
      " 12  item_release_date       7289 non-null   object \n",
      " 13  purchase_timestamp      7289 non-null   object \n",
      " 14  customer_item_views     7289 non-null   int64  \n",
      " 15  purchase_item_rating    1544 non-null   float64\n",
      " 16  purchase_device         7289 non-null   object \n",
      " 17  label                   7289 non-null   int64  \n",
      "dtypes: float64(3), int64(4), object(11)\n",
      "memory usage: 1.0+ MB\n",
      "None\n"
     ]
    }
   ],
   "source": [
    "# Información general sobre el train dataset\n",
    "\n",
    "print(train_df.shape)\n",
    "print(train_df.info())"
   ]
  },
  {
   "cell_type": "code",
   "execution_count": 3,
   "id": "5ee7504a",
   "metadata": {},
   "outputs": [
    {
     "name": "stdout",
     "output_type": "stream",
     "text": [
      "(978, 17)\n",
      "<class 'pandas.core.frame.DataFrame'>\n",
      "RangeIndex: 978 entries, 0 to 977\n",
      "Data columns (total 17 columns):\n",
      " #   Column                  Non-Null Count  Dtype  \n",
      "---  ------                  --------------  -----  \n",
      " 0   purchase_id             978 non-null    int64  \n",
      " 1   customer_id             978 non-null    object \n",
      " 2   customer_date_of_birth  978 non-null    object \n",
      " 3   customer_gender         800 non-null    object \n",
      " 4   customer_signup_date    978 non-null    object \n",
      " 5   item_id                 978 non-null    object \n",
      " 6   item_title              978 non-null    object \n",
      " 7   item_category           978 non-null    object \n",
      " 8   item_price              978 non-null    float64\n",
      " 9   item_img_filename       978 non-null    object \n",
      " 10  item_avg_rating         0 non-null      float64\n",
      " 11  item_num_ratings        0 non-null      float64\n",
      " 12  item_release_date       978 non-null    object \n",
      " 13  purchase_timestamp      0 non-null      float64\n",
      " 14  customer_item_views     0 non-null      float64\n",
      " 15  purchase_item_rating    0 non-null      float64\n",
      " 16  purchase_device         0 non-null      float64\n",
      "dtypes: float64(7), int64(1), object(9)\n",
      "memory usage: 130.0+ KB\n",
      "None\n"
     ]
    }
   ],
   "source": [
    "# Información general sobre el test dataset\n",
    "\n",
    "print(test_df.shape)\n",
    "print(test_df.info())"
   ]
  },
  {
   "cell_type": "markdown",
   "id": "9aec4bb6",
   "metadata": {},
   "source": [
    "---\n",
    "\n",
    "## Observaciones Sobre Train Dataset\n",
    "\n",
    "- 🎯 **Se identifica la columna a predecir**: `label`\n",
    "    - En todos los registros es igual a $1$\n",
    "        - Evidencía que el cliente compró el producto\n",
    "    - No se incluyen casos donde **no se hizo la compra** (porque son compras históricas)\n",
    "        - Se tendrá que aumentar el dataset creando esos registros\n",
    "- ❌ **Columna**: `purchase_id`\n",
    "    - Identificador de compra es irrelevante para predecir futuras compras\n",
    "    - No usar para entrenar el modelo\n",
    "- ✅ **Columna de interés**: `customer_id`\n",
    "    - Identifica al cliente que hizo la compra\n",
    "    - Permite identificar gustos y patrones del cliente para predecir si comprará un nuevo producto, y la certeza\n",
    "- ✅ **Columna de interés**: `customer_date_of_birth`\n",
    "    - ⭐ Permite calcular **edad del cliente**\n",
    "    - 🔎 Investigar existencia de relación entre **edad** con sus **gustos** e **intereses**\n",
    "- ✅ **Columna de interés**: `customer_gender`\n",
    "    - 🔎 Investigar existencia de relación entre **género** del cliente con sus **gustos** e **intereses**\n",
    "- ✅ **Columna de interés**: `customer_signup_date`\n",
    "    - ⭐ Permite calcular la **antigüedad del cliente**\n",
    "- ❓ **Columna**: `item_id`\n",
    "    - Quizá este dato no nos interesa para entrenamiento ya que los de validación serán productos inexistentes\n",
    "    - Nos interesan los atributos que describen al artículo comprado y a quién lo compró en lugar de qué artículo específicamente fue comprado.\n",
    "- ✅ **Columna de interés**: `item_title`\n",
    "    - Muchas palabras\n",
    "        - Encontrar manera de extraer las importantes (o la importante)\n",
    "    - Da una descripción sobre el artículo. \n",
    "    - Nos interesan algunos adjetivos que sobresalen de ahí para poder relacionar sobre los segmentos de clientes y la ropa que compra para poder saber la probabilidad de que compre el nuevo artículo.\n",
    "        - Casual\n",
    "        - Elegante\n",
    "        - Stylish\n",
    "         Modern\n",
    "        - ...\n",
    "- ✅ **Columna de interés**: `item_category`\n",
    "    - Una sola palabra que describe si es vestido, blusa, traje, etc.\n",
    "- ✅ **Columna de interés**: `item_price`\n",
    "    - 🔎 Puede que si es muy caro no sea muy comprado\n",
    "- ✅ **Columna de interés**: `item_img_filename`\n",
    "    - Las imagenes, son el color de la ropa, es categórico.\n",
    "    - Innecesario procesar imagenes\n",
    "- ❓ **Demás columnas**\n",
    "    - **Información probablemente inútil**\n",
    "    - Se encuentran los ratings e información derivada de la compra de artículos ya existentes.\n",
    "        - `item_avg_rating`\n",
    "        - `item_num_ratings`\n",
    "        - `item_release_date`\n",
    "        - `purchase_timestamp`\n",
    "        - `customer_item_views`\n",
    "        - `purchase_item_rating`\n",
    "        - `purchase_device`\n",
    "    - Dudo que sea información útil para predecir la compra.\n",
    "        - Necesitan compras existentes para existir, por lo tanto, probablemente desechables\n",
    "- ⚠️ **Columnas con datos parciales**:\n",
    "    - `customer_gender`\n",
    "    - `item_avg_rating`\n",
    "    - `purchase_item_rating`"
   ]
  },
  {
   "cell_type": "markdown",
   "id": "318a0757",
   "metadata": {},
   "source": [
    "---\n",
    "\n",
    "## Observaciones Sobre Test Dataset\n",
    "\n",
    "- Son datos de productos **no lanzados**\n",
    "    - Lanzamiento después de corte (9/21/2025)\n",
    "- ⚠️ **Columna inexistente**: `label`\n",
    "    - ❗ Será necesario hacer **split del train dataset**, que sí tiene labels, para poder validar el funcionamiento del modelo\n",
    "- ⚠️ **Registros vaciós**: `customer_gender`\n",
    "    - Es la única columna con datos parciales en validación\n",
    "- Las mismas columnas que se identificaron como probablemente inutiles en training están vacias excepto `item_release_date`. Están son:\n",
    "    - `item_avg_rating`\n",
    "    - `item_num_ratings`\n",
    "    - `purchase_timestamp`\n",
    "    - `customer_item_views`\n",
    "    - `purchase_item_rating`\n",
    "    - `purchase_device`\n"
   ]
  },
  {
   "cell_type": "markdown",
   "id": "70e34ab6",
   "metadata": {},
   "source": [
    "---\n",
    "\n",
    "# Distribuciones de datos\n"
   ]
  },
  {
   "cell_type": "code",
   "execution_count": 2,
   "id": "c1f719fd",
   "metadata": {},
   "outputs": [
    {
     "ename": "NameError",
     "evalue": "name 'train_df' is not defined",
     "output_type": "error",
     "traceback": [
      "\u001b[1;31m---------------------------------------------------------------------------\u001b[0m",
      "\u001b[1;31mNameError\u001b[0m                                 Traceback (most recent call last)",
      "Cell \u001b[1;32mIn[2], line 3\u001b[0m\n\u001b[0;32m      1\u001b[0m \u001b[38;5;66;03m# visualizar valores vacios\u001b[39;00m\n\u001b[1;32m----> 3\u001b[0m train_null_count \u001b[38;5;241m=\u001b[39m train_df\u001b[38;5;241m.\u001b[39misnull()\u001b[38;5;241m.\u001b[39msum()\n\u001b[0;32m      4\u001b[0m test_null_count \u001b[38;5;241m=\u001b[39m test_df\u001b[38;5;241m.\u001b[39misnull()\u001b[38;5;241m.\u001b[39msum()\n\u001b[0;32m      6\u001b[0m fig, axes \u001b[38;5;241m=\u001b[39m plt\u001b[38;5;241m.\u001b[39msubplots(\u001b[38;5;241m1\u001b[39m, \u001b[38;5;241m2\u001b[39m, figsize\u001b[38;5;241m=\u001b[39m(\u001b[38;5;241m8\u001b[39m\u001b[38;5;241m*\u001b[39m\u001b[38;5;241m2\u001b[39m, \u001b[38;5;241m5\u001b[39m))\n",
      "\u001b[1;31mNameError\u001b[0m: name 'train_df' is not defined"
     ]
    }
   ],
   "source": [
    "# visualizar valores vacios\n",
    "\n",
    "train_null_count = train_df.isnull().sum()\n",
    "test_null_count = test_df.isnull().sum()\n",
    "\n",
    "fig, axes = plt.subplots(1, 2, figsize=(8*2, 5))\n",
    "\n",
    "train_null_count.plot(\n",
    "    kind='bar',\n",
    "    ax=axes[0],\n",
    "    ylim=(0, 6000),\n",
    "    title=\"Null values count on Train Dataset\"\n",
    ");\n",
    "\n",
    "test_null_count.plot(\n",
    "    kind='bar',\n",
    "    ax=axes[1],\n",
    "    ylim=(0,6000),\n",
    "    title=\"Null values count on Test Dataset\"\n",
    ");"
   ]
  },
  {
   "cell_type": "code",
   "execution_count": null,
   "id": "5fe05c98",
   "metadata": {},
   "outputs": [],
   "source": [
    "# grafica que agrupa los costos y grafica el rango de precios que tiene mas ventas\n",
    "\n",
    "# total de clientes, dividir en segmentos de edad y graficar frecuencia\n",
    "\n",
    "# compras populares entre hombres y mujeres\n",
    "\n",
    "# compras populares entre segmentos de clientes ????\n",
    "\n",
    "# top 10 clientes con mas compras\n",
    "\n",
    "# cantidad de compras a traves del tiempo\n",
    "#\n",
    "\n"
   ]
  },
  {
   "cell_type": "code",
   "execution_count": 1,
   "id": "13f67e1e",
   "metadata": {},
   "outputs": [
    {
     "ename": "NameError",
     "evalue": "name 'train_df' is not defined",
     "output_type": "error",
     "traceback": [
      "\u001b[1;31m---------------------------------------------------------------------------\u001b[0m",
      "\u001b[1;31mNameError\u001b[0m                                 Traceback (most recent call last)",
      "Cell \u001b[1;32mIn[1], line 7\u001b[0m\n\u001b[0;32m      3\u001b[0m \u001b[38;5;28;01mimport\u001b[39;00m\u001b[38;5;250m \u001b[39m\u001b[38;5;21;01mmatplotlib\u001b[39;00m\u001b[38;5;21;01m.\u001b[39;00m\u001b[38;5;21;01mpyplot\u001b[39;00m\u001b[38;5;250m \u001b[39m\u001b[38;5;28;01mas\u001b[39;00m\u001b[38;5;250m \u001b[39m\u001b[38;5;21;01mplt\u001b[39;00m\n\u001b[0;32m      5\u001b[0m \u001b[38;5;66;03m# --- Agrupación de costos (ejemplo: promedio de ventas por categoría de costo) ---\u001b[39;00m\n\u001b[0;32m      6\u001b[0m \u001b[38;5;66;03m# Si tienes una columna \"cost\" o \"price\", ajusta el nombre aquí:\u001b[39;00m\n\u001b[1;32m----> 7\u001b[0m cost_summary \u001b[38;5;241m=\u001b[39m train_df\u001b[38;5;241m.\u001b[39mgroupby(\u001b[38;5;124m\"\u001b[39m\u001b[38;5;124mprice\u001b[39m\u001b[38;5;124m\"\u001b[39m)[\u001b[38;5;124m\"\u001b[39m\u001b[38;5;124msales\u001b[39m\u001b[38;5;124m\"\u001b[39m]\u001b[38;5;241m.\u001b[39msum()\u001b[38;5;241m.\u001b[39mreset_index()\n\u001b[0;32m      9\u001b[0m plt\u001b[38;5;241m.\u001b[39mfigure(figsize\u001b[38;5;241m=\u001b[39m(\u001b[38;5;241m10\u001b[39m,\u001b[38;5;241m6\u001b[39m))\n\u001b[0;32m     10\u001b[0m plt\u001b[38;5;241m.\u001b[39mbar(cost_summary[\u001b[38;5;124m\"\u001b[39m\u001b[38;5;124mprice\u001b[39m\u001b[38;5;124m\"\u001b[39m], cost_summary[\u001b[38;5;124m\"\u001b[39m\u001b[38;5;124msales\u001b[39m\u001b[38;5;124m\"\u001b[39m], color\u001b[38;5;241m=\u001b[39m\u001b[38;5;124m\"\u001b[39m\u001b[38;5;124mskyblue\u001b[39m\u001b[38;5;124m\"\u001b[39m)\n",
      "\u001b[1;31mNameError\u001b[0m: name 'train_df' is not defined"
     ]
    }
   ],
   "source": [
    "# grafica que agrupa los costos y grafica el rango de precios que tiene mas ventas\n",
    "import pandas as pd\n",
    "import matplotlib.pyplot as plt\n",
    "\n",
    "# --- Agrupación de costos (ejemplo: promedio de ventas por categoría de costo) ---\n",
    "# Si tienes una columna \"cost\" o \"price\", ajusta el nombre aquí:\n",
    "cost_summary = train_df.groupby(\"price\")[\"sales\"].sum().reset_index()\n",
    "\n",
    "plt.figure(figsize=(10,6))\n",
    "plt.bar(cost_summary[\"price\"], cost_summary[\"sales\"], color=\"skyblue\")\n",
    "plt.title(\"Ventas agrupadas por costo\")\n",
    "plt.xlabel(\"Costo / Precio\")\n",
    "plt.ylabel(\"Ventas Totales\")\n",
    "plt.xticks(rotation=45)\n",
    "plt.show()\n",
    "\n",
    "# --- Gráfico de rangos de precios ---\n",
    "# Creamos bins (rangos de precios), por ejemplo de 0 a 500 en intervalos de 50\n",
    "price_bins = pd.cut(train_df[\"price\"], bins=range(0, 501, 50))\n",
    "range_summary = train_df.groupby(price_bins)[\"sales\"].sum().reset_index()\n",
    "\n",
    "plt.figure(figsize=(10,6))\n",
    "plt.bar(range_summary[\"price\"], range_summary[\"sales\"], color=\"orange\")\n",
    "plt.title(\"Rangos de precio con más ventas\")\n",
    "plt.xlabel(\"Rango de precios\")\n",
    "plt.ylabel(\"Ventas Totales\")\n",
    "plt.xticks(rotation=45)\n",
    "plt.show()\n"
   ]
  }
 ],
 "metadata": {
  "kernelspec": {
   "display_name": "base",
   "language": "python",
   "name": "python3"
  },
  "language_info": {
   "codemirror_mode": {
    "name": "ipython",
    "version": 3
   },
   "file_extension": ".py",
   "mimetype": "text/x-python",
   "name": "python",
   "nbconvert_exporter": "python",
   "pygments_lexer": "ipython3",
   "version": "3.13.5"
  }
 },
 "nbformat": 4,
 "nbformat_minor": 5
}
