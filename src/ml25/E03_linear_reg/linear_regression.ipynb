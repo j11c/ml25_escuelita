{
 "cells": [
  {
   "attachments": {},
   "cell_type": "markdown",
   "metadata": {},
   "source": [
    "# Regresión lineal\n",
    "En este ejercicio implementarás la solución analítica de regresión lineal. Además, investigarás la influencia de los puntos extremos en el modelo. Antes de empezar importaremos las librerias necesarias. Después, leeremos el archivo que contiene los datos de entrenamiento.\n",
    "\n",
    "**(TODO) Describe la diferencia entre regresión y clasificación en una oración**\n",
    "\n",
    "**RESPUESTA:** Regresión predice un valor continuo y clasificación coloca el datapoint en una categoría según el cumplimiento de criterios específicos.\n",
    "\n",
    "## Ejercicio:\n",
    "En la siguiente parte queremos implementar la solución de mínimos cuadrados para regresión lineal. Esto significa que dado un set de puntos $\\{\\mathbf{x_i},y_i\\}$, $i = 1, 2, ..., M$ queremos encontrar la línea (o hiperplano en múltiples dimensiones) que minimice el error cuadrático. Este tipo de error, mide la distancia entre los puntos predichos por el modelo lineal contra los valores reales.\n",
    "\n",
    "La fórmula general de regresión lineal es $\\mathbf{y} = \\mathbf X \\boldsymbol w+ \\mathbf{\\epsilon}$ donde:\n",
    "\n",
    "- $\\epsilon$ es un vector de dimensionalidad $\\mathbb{R}^M$ conteniendo los términos de error $N(0,\\sigma^2)$\n",
    "- $\\mathbf{y}$ es el vector de etiquedas\n",
    "- $\\mathbf{X}$ es la *matriz* de data points de dimensionalidad $\\mathbb{R}^{M \\times D}$. \n",
    "\n",
    "Nos interesa calcular los pesos $\\hat{\\boldsymbol w}$ que definan la función lineal óptima. Como vimos en clase, estos estimados están dados por:\n",
    "\n",
    "\\begin{equation}\n",
    "\\hat{\\boldsymbol w} = (\\mathbf{X}^{\\rm T}\\mathbf{X})^{-1} \\mathbf{X}^{\\rm T}\\mathbf{y}\n",
    "\\end{equation}\n",
    "\n",
    "**Tu trabajo**\n",
    "1. En el primer ejercicio, generaremos un ruido gausiano de dos dimensiones alrededor de una función lineal. Observa como se general los datos y cuáles son los parámetros reales de $\\boldsymbol{w}$.\n",
    "2. Implementarás la solución analítica de regresión lineal. Para ello debes realizar los siguientes pasos.\n",
    "    1. Modifica la matriz de datos para que se encuentre en la forma de notación aumentada.\n",
    "    2. Calcula los pesos estimados según la fórmula vista en clase, usando las funciones de numpy y python.\n",
    "    3. Visualiza la línea resultante (el modelo) en la misma gráfica que de los datos originales.\n",
    "    3. Calcula la suma de errores residuales de los data points y estima un promedio i.e. $\\sum_{i=1}^M \\|y(x_i) - y_i \\|^2$.\n",
    "    5. Compara tus resultados con la función integrada de numpy `np.linalg.lstsq(...)`\n",
    "3. Finalmente, repite los pasos anteriores para generar un modelo de regresión lineal que resuelva del problema de las casas."
   ]
  },
  {
   "attachments": {},
   "cell_type": "markdown",
   "metadata": {},
   "source": [
    "## 1. \"Toy problem\""
   ]
  },
  {
   "cell_type": "code",
   "execution_count": 5,
   "metadata": {},
   "outputs": [
    {
     "name": "stdout",
     "output_type": "stream",
     "text": [
      "(100, 1)\n",
      "(100, 1)\n",
      "(2, 1)\n"
     ]
    },
    {
     "data": {
      "image/png": "[encoded data removed]",
      "text/plain": [
       "<Figure size 640x480 with 1 Axes>"
      ]
     },
     "metadata": {},
     "output_type": "display_data"
    }
   ],
   "source": [
    "%matplotlib inline\n",
    "import numpy as np\n",
    "import matplotlib.pyplot as plt\n",
    "\n",
    "## Generamos datos aleatorios con una desviación estandar conocida\n",
    "## Alrededor de una funcion lineal conocida y = 1.2x + 5\n",
    "n_muestras = 100\n",
    "ruido_blanco_std = 2\n",
    "X = np.random.randn(n_muestras, 1)\n",
    "eps = np.random.randn(n_muestras, 1) * ruido_blanco_std\n",
    "w = np.array([[5, 1.2]]).T\n",
    "y = w[0] + X * w[1] + eps\n",
    "\n",
    "## Imprimimos la dimensionalidad de nuestros datos de entrada y las etiquetas\n",
    "print(X.shape)  # X es de n_muestras, 1 (variable)\n",
    "print(y.shape)\n",
    "print(w.shape)\n",
    "\n",
    "## Graficar los datos\n",
    "plt.scatter(X, y)\n",
    "plt.grid()"
   ]
  },
  {
   "attachments": {},
   "cell_type": "markdown",
   "metadata": {},
   "source": [
    "## 2. Solución a regresión lineal"
   ]
  },
  {
   "cell_type": "code",
   "execution_count": 8,
   "metadata": {},
   "outputs": [
    {
     "name": "stdout",
     "output_type": "stream",
     "text": [
      "(100, 2)\n"
     ]
    }
   ],
   "source": [
    "# 2.1. TODO: Transforma los datapoints X a notación aumentada\n",
    "# Tips: \n",
    "#   - Imprime la forma/dimensionalidad de la matriz con print(X.shape) y verifica que sea del tamaño adecuado\n",
    "#   - Investiga la función de numpy np.concatenate y np.ones\n",
    "n = X.shape[0]\n",
    "\n",
    "bias = np.ones((n, 1))\n",
    "\n",
    "X_augmented = np.concatenate([bias, X], axis = 1)\n",
    "print(X_augmented.shape)"
   ]
  },
  {
   "cell_type": "code",
   "execution_count": null,
   "metadata": {},
   "outputs": [],
   "source": [
    "# 2.2 TODO: usa la ecuación anterior (X'X)^(-1)X'Y para calcular los pesos\n",
    "# Consejo: \n",
    "#       Utiliza np.dot() o @ para calcular la multiplicación de matrices\n",
    "#       np.linalg.inv() se usa para calcular la matriz inversa\n",
    "#       X.T es la transpuesta de X\n",
    "\n",
    "w_hat = ..."
   ]
  },
  {
   "cell_type": "code",
   "execution_count": null,
   "metadata": {},
   "outputs": [],
   "source": [
    "# 2.3 TODO: Calcula las predicciones de tu modelo\n",
    "y_hat = ...\n",
    "print(y_hat.shape)\n",
    "\n",
    "plt.plot(X, y, 'o', label='Datos originales', markersize=10)\n",
    "\n",
    "# TODO: Grafica las predicciones/ la linea resultante\n",
    "\n",
    "plt.legend()"
   ]
  },
  {
   "cell_type": "code",
   "execution_count": null,
   "metadata": {},
   "outputs": [],
   "source": [
    "## 2.4 TODO: Calcula la suma de errores cuadrádos\n",
    "y_hat = ...\n",
    "residual_mio = ...\n",
    "\n",
    "## 2.5 TODO: Compara los resultados con la función integrada de numpy 'np.linalg.lstsq'\n",
    "c, m = np.linalg.lstsq(...)\n",
    "\n",
    "y_hat2 = ...\n",
    "residual_numpy = ...\n",
    "\n",
    "# Graficando\n",
    "plt.plot(X, y, 'o', label='Datos originales', markersize=10)\n",
    "\n",
    "# TODO: Grafica la linea resultante de TU modelo como en la sección anterior\n",
    "plt.plot(X, y_hat, 'r', lw=3, label='Linea resultante')\n",
    "\n",
    "# TODO: Grafica la linea resultante de numpy como en la sección anterior\n",
    "plt.plot(X, y_hat2, ':k', label='función integrada')\n",
    "plt.legend()\n",
    "plt.show()\n",
    "\n",
    "# TODO: Imprime y compara la suma de errores cuadrádos calculado por TU metodo y el de numpy\n",
    "print(\"Residuales mios: \", residual_mio)\n",
    "print(\"Residuales numpy:\", residual_numpy)"
   ]
  },
  {
   "attachments": {},
   "cell_type": "markdown",
   "metadata": {},
   "source": [
    "## 3. El efecto de las anomalías\n",
    "\n",
    "En esta sección analizaremos los datos del problema de las casas para buscar una solución a través de regresión lineal.\n",
    "\n",
    "Para ello observaremos los datos y aplicaremos un modelo de regresión lineal a los mismos. Después realizarás los mismo pasos en un conjunto con datos filtrados a fin de encontrar un mejor modelo.\n",
    "\n",
    "Tu trabajo:\n",
    "1. Utiliza la librería de scikit-learn para encontrar la solución de regresión lineal para el problema de las casas usando el **conjunto de datos de entrenamiento (train_data)**\n",
    "2. Calcula el error cuadrático en el **conjunto de validación (val_data)**.\n",
    "3. Repite los dos pasos anteriores para los datos filtrados y observa la diferencia."
   ]
  },
  {
   "cell_type": "code",
   "execution_count": null,
   "metadata": {},
   "outputs": [],
   "source": [
    "# Importar librerias\n",
    "import pandas as pd\n",
    "import numpy as np\n",
    "import os\n",
    "from pathlib import Path"
   ]
  },
  {
   "cell_type": "code",
   "execution_count": null,
   "metadata": {},
   "outputs": [],
   "source": [
    "def read_data(data_dir, file):\n",
    "    df = pd.read_csv(os.path.join(data_dir, file))\n",
    "    return df\n",
    "\n",
    "# Leer los datasets\n",
    "data_dir = \"./data\"\n",
    "data = read_data(data_dir, \"train.csv\")\n",
    "\n",
    "# Filtrar los datos para seleccionar las columnas de interes\n",
    "# y dejar solo los datos del 2010\n",
    "selected_dim = [\"LotArea\", \"SalePrice\"]\n",
    "data = data[data[\"YrSold\"] <= 2009]\n",
    "data = data[selected_dim]\n",
    "\n",
    "# Separamos los datos en diferentes conjuntos\n",
    "n_datapoints = len(data)\n",
    "train_data = data[:-n_datapoints//4]\n",
    "val_data = data[-n_datapoints//4:]"
   ]
  },
  {
   "attachments": {},
   "cell_type": "markdown",
   "metadata": {},
   "source": [
    "## Visualización\n",
    "En la siguiente celda visualizamos los datos originales. Observa como contine una distribución densa para cases con un area menor a 50k sqft y un precio menor a 600k USD, y por otro lado contiene datos escasos fuera de estos rangos."
   ]
  },
  {
   "cell_type": "code",
   "execution_count": null,
   "metadata": {},
   "outputs": [],
   "source": [
    "import matplotlib.pyplot as plt\n",
    "%matplotlib inline\n",
    "\n",
    "def plot_data(x, labels):\n",
    "    x_label = \"Área (sqft)\"\n",
    "    y_label = \"Precio (USD)\"\n",
    "    fig, ax = plt.subplots(figsize=(4,4))\n",
    "    ax.scatter(x, labels, edgecolors='black') # x, y\n",
    "    ax.set_ylabel(y_label, fontweight='bold')\n",
    "    ax.set_xlabel(x_label, fontweight='bold')\n",
    "    ax.grid(linestyle='--')\n",
    "    return fig, ax\n",
    "\n",
    "# Definir variables y etiquetas\n",
    "X = np.array(train_data[\"LotArea\"])\n",
    "y = np.array(train_data[\"SalePrice\"])\n",
    "\n",
    "# Visualizar los datos originales\n",
    "fig, ax = plot_data(X, y)\n",
    "fig.tight_layout()\n",
    "plt.show()"
   ]
  },
  {
   "attachments": {},
   "cell_type": "markdown",
   "metadata": {},
   "source": [
    "### Regresión en datos originales\n",
    "\n",
    "Primero aplicaremos regresión lineal a los datos íntegros para observar el efecto de conservar los datos extremos en el entrenamiento del modelo.\n",
    "\n",
    "Puedes consultar la documentación de sci-kit learn para  [regresión lineal](https://scikit-learn.org/stable/modules/generated/sklearn.linear_model.LinearRegression.html) en línea para obtener detalles de como utilizar la función."
   ]
  },
  {
   "cell_type": "code",
   "execution_count": null,
   "metadata": {},
   "outputs": [],
   "source": [
    "from sklearn.linear_model import LinearRegression\n",
    "X = X.reshape(-1, 1)\n",
    "\n",
    "# TODO: Usas la funcion integrada de scikit learn para encontrar un modelo de regresión lineal que se ajuste a los datos de entrenamiento y obtén las predicciones\n",
    "preds = ...\n",
    "\n",
    "# Graficamos los datos originales\n",
    "fig, ax = plot_data(X, y)\n",
    "# TODO: Grafica la linea resultante sobre los datos originales\n",
    "ax.plot(X, preds, 'r')\n",
    "\n",
    "plt.legend()\n",
    "\n",
    "# TODO: calcula el error cuadrado promedio\n",
    "mean_error = ...\n",
    "print(mean_error)"
   ]
  },
  {
   "attachments": {},
   "cell_type": "markdown",
   "metadata": {},
   "source": [
    "## Pre-procesamiento de datos\n",
    "Como observamos, estos datos presentan múltiples valores aislados lo que afecta la solución de regresión lineal. \n",
    "\n",
    "En la siguiente sección, remueve los valores aislados y repite los pasos anteriores para encontrar un modelo de regresión lineal. C\n",
    "\n",
    "Calcula el error cuadrático los datos filtrados. \n",
    "\n",
    "(TODO: Responde) ¿Cuál es el efecto de pre procesar los datos?"
   ]
  },
  {
   "cell_type": "code",
   "execution_count": null,
   "metadata": {},
   "outputs": [],
   "source": [
    "# TODO: Remueve los outliers seleccionando un valor que consideres apropiado (filtra los valores de LotArea <= 70000 y SalePrice <= 700000) hasta que los datos se encuentren densamente concentrados en una región\n",
    "train_data_filtrada = ...\n",
    "train_data_filtrada = ...\n",
    "\n",
    "# Definir variables y etiquetas\n",
    "X_filtered = np.array(train_data_filtrada[\"LotArea\"])\n",
    "y_filtered = np.array(train_data_filtrada[\"SalePrice\"])\n",
    "\n",
    "# Graficar de nuevo\n",
    "fig, ax = plot_data(X_filtered, y_filtered)\n",
    "fig.tight_layout()\n",
    "plt.show()"
   ]
  },
  {
   "attachments": {},
   "cell_type": "markdown",
   "metadata": {},
   "source": [
    "### Regresión en datos filtrados"
   ]
  },
  {
   "cell_type": "code",
   "execution_count": null,
   "metadata": {},
   "outputs": [],
   "source": [
    "X_filtered = X_filtered.reshape(-1, 1)\n",
    "\n",
    "# TODO: Utiliza la clase de LinearRegression de la librería de sci-kit learn para encontrar el modelo de regresión lineal para los datos.\n",
    "\n",
    "\n",
    "# TODO: Grafica la linea resultante sobre los datos originales (train_data)\n",
    "\n",
    "\n",
    "# TODO: calcula el error cuadrado promedio\n",
    "mean_error_new = ...\n",
    "\n",
    "# Visualiza como cambia el error cuando filtramos los datos\n",
    "print(mean_error_new)\n",
    "print(\"diferencia de error\", mean_error - mean_error_new)"
   ]
  },
  {
   "attachments": {},
   "cell_type": "markdown",
   "metadata": {},
   "source": [
    "## TODO: Responde las siguientes preguntas\n",
    "\n",
    "**¿Qué puedes concluir de este ejemplo?**\n",
    "\n",
    "**¿Cuál de las dos soluciones es un mejor modelo de nuestros datos?**\n",
    "\n",
    "**¿Además de filtrar los datos, qué estrategias puedes tomar para penalizar más levemente a los valores aislados?**\n"
   ]
  }
 ],
 "metadata": {
  "kernelspec": {
   "display_name": "mlenv",
   "language": "python",
   "name": "python3"
  },
  "language_info": {
   "codemirror_mode": {
    "name": "ipython",
    "version": 3
   },
   "file_extension": ".py",
   "mimetype": "text/x-python",
   "name": "python",
   "nbconvert_exporter": "python",
   "pygments_lexer": "ipython3",
   "version": "3.10.18"
  },
  "orig_nbformat": 4
 },
 "nbformat": 4,
 "nbformat_minor": 2
}
